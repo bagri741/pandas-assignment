{
 "cells": [
  {
   "cell_type": "code",
   "execution_count": 5,
   "id": "8fee7189-b8e8-4956-b3c5-553fe4b73b57",
   "metadata": {},
   "outputs": [
    {
     "data": {
      "text/plain": [
       "'Q1. What is Statistics?'"
      ]
     },
     "execution_count": 5,
     "metadata": {},
     "output_type": "execute_result"
    }
   ],
   "source": [
    "'''Q1. What is Statistics?'''"
   ]
  },
  {
   "cell_type": "code",
   "execution_count": 4,
   "id": "183baa11-6f1c-48d8-bec5-169a9cf89450",
   "metadata": {},
   "outputs": [
    {
     "data": {
      "text/plain": [
       "'Statistics is a branch of applied mathematics that involves the collection, description, analysis, and inference of conclusions from quantitative data. It is also described as the study of the collection, analysis, interpretation, presentation, and organization of data. In essence, statistics is a mathematical discipline that concerns the collection, organization, analysis, interpretation, and presentation of data.'"
      ]
     },
     "execution_count": 4,
     "metadata": {},
     "output_type": "execute_result"
    }
   ],
   "source": [
    "'''Statistics is a branch of applied mathematics that involves the collection, description, analysis, and \n",
    "inference of conclusions from quantitative data. It is also described as the study of the collection, \n",
    "analysis, interpretation, presentation, and organization of data. In essence, statistics is a mathematical\n",
    "discipline that concerns the collection, organization, analysis, interpretation, and presentation of data.'''"
   ]
  },
  {
   "cell_type": "code",
   "execution_count": 6,
   "id": "0ee0dd91-8301-4129-8b6a-edb5de4c2d86",
   "metadata": {},
   "outputs": [
    {
     "data": {
      "text/plain": [
       "'Q2.Define the different types of statistics and give an example of when each type might be used.'"
      ]
     },
     "execution_count": 6,
     "metadata": {},
     "output_type": "execute_result"
    }
   ],
   "source": [
    "'''Q2.Define the different types of statistics and give an example of when each type might be used.'''"
   ]
  },
  {
   "cell_type": "code",
   "execution_count": 8,
   "id": "fcd8e000-0b8e-4bad-991b-6d4f66764742",
   "metadata": {},
   "outputs": [
    {
     "data": {
      "text/plain": [
       "' 1. Descriptive Statistics:\\n\\nDescriptive statistics involves summarizing and describing the basic features of a dataset, such as the mean, \\nmedian, mode, range, and standard deviation. It provides a snapshot of the data, helping to understand the \\ncharacteristics of the data.\\n\\n\\n2. Inferential Statistics:\\n\\nInferential statistics involves making conclusions or inferences about a larger population based on a sample of data. \\nIt uses statistical methods to make predictions, estimates, or hypotheses about the population.'"
      ]
     },
     "execution_count": 8,
     "metadata": {},
     "output_type": "execute_result"
    }
   ],
   "source": [
    "''' 1. Descriptive Statistics:\n",
    "\n",
    "Descriptive statistics involves summarizing and describing the basic features of a dataset, such as the mean, \n",
    "median, mode, range, and standard deviation. It provides a snapshot of the data, helping to understand the \n",
    "characteristics of the data.\n",
    "\n",
    "\n",
    "2. Inferential Statistics:\n",
    "\n",
    "Inferential statistics involves making conclusions or inferences about a larger population based on a sample of data. \n",
    "It uses statistical methods to make predictions, estimates, or hypotheses about the population.'''"
   ]
  },
  {
   "cell_type": "code",
   "execution_count": 9,
   "id": "adfa6a79-9134-4686-a47c-8cf594a28350",
   "metadata": {},
   "outputs": [
    {
     "data": {
      "text/plain": [
       "'Q3. What are the different types of data and how do they differ from each other? Provide an example of\\neach type of data.'"
      ]
     },
     "execution_count": 9,
     "metadata": {},
     "output_type": "execute_result"
    }
   ],
   "source": [
    "'''Q3. What are the different types of data and how do they differ from each other? Provide an example of\n",
    "each type of data.'''"
   ]
  },
  {
   "cell_type": "code",
   "execution_count": 10,
   "id": "39b98f9d-c92b-42d4-9273-49479596161b",
   "metadata": {},
   "outputs": [
    {
     "data": {
      "text/plain": [
       "'Quantitative Data:\\n\\nQuantitative data is numerical in nature and can be measured or counted. It can be further divided into two subcategories:\\n\\n1. Discrete Data:\\n\\nDiscrete data is countable and can only take on specific, distinct values.\\n\\n\\n\\n2. Continuous Data:\\n\\nContinuous data can take on any value within a given range or interval.\\n\\n\\n\\nQualitative Data:\\n\\nQualitative data is non-numerical and describes characteristics or attributes. It can be further divided into two subcategories:\\n\\n1. Nominal Data:\\n\\nNominal data is used to label or categorize data without any inherent order or ranking.\\n\\n\\n\\n2. Ordinal Data:\\n\\nOrdinal data has a natural order or ranking, but the differences between consecutive values are not necessarily equal.\\n\\n\\n\\nOther types of data:\\n\\n1. Interval Data:\\n\\nInterval data is similar to ordinal data, but the differences between consecutive values are equal.\\n\\n\\n\\n2. Ratio Data:\\n\\nRatio data is similar to interval data, but it has a true zero point, allowing for meaningful ratios and comparisons.\\n\\n\\n\\n3. Categorical Data:\\n\\nCategorical data is a type of nominal data that is used to classify data into distinct groups or categories.'"
      ]
     },
     "execution_count": 10,
     "metadata": {},
     "output_type": "execute_result"
    }
   ],
   "source": [
    "'''Quantitative Data:\n",
    "\n",
    "Quantitative data is numerical in nature and can be measured or counted. It can be further divided into two subcategories:\n",
    "\n",
    "1. Discrete Data:\n",
    "\n",
    "Discrete data is countable and can only take on specific, distinct values.\n",
    "\n",
    "\n",
    "\n",
    "2. Continuous Data:\n",
    "\n",
    "Continuous data can take on any value within a given range or interval.\n",
    "\n",
    "\n",
    "\n",
    "Qualitative Data:\n",
    "\n",
    "Qualitative data is non-numerical and describes characteristics or attributes. It can be further divided into two subcategories:\n",
    "\n",
    "1. Nominal Data:\n",
    "\n",
    "Nominal data is used to label or categorize data without any inherent order or ranking.\n",
    "\n",
    "\n",
    "\n",
    "2. Ordinal Data:\n",
    "\n",
    "Ordinal data has a natural order or ranking, but the differences between consecutive values are not necessarily equal.\n",
    "\n",
    "\n",
    "\n",
    "Other types of data:\n",
    "\n",
    "1. Interval Data:\n",
    "\n",
    "Interval data is similar to ordinal data, but the differences between consecutive values are equal.\n",
    "\n",
    "\n",
    "\n",
    "2. Ratio Data:\n",
    "\n",
    "Ratio data is similar to interval data, but it has a true zero point, allowing for meaningful ratios and comparisons.\n",
    "\n",
    "\n",
    "\n",
    "3. Categorical Data:\n",
    "\n",
    "Categorical data is a type of nominal data that is used to classify data into distinct groups or categories.'''\n",
    "\n",
    "\n",
    "\n",
    "\n"
   ]
  },
  {
   "cell_type": "code",
   "execution_count": 11,
   "id": "1b96e44e-d043-420b-90b3-66a94ed169c9",
   "metadata": {},
   "outputs": [
    {
     "data": {
      "text/plain": [
       "'Q4. Categorise the following datasets with respect to quantitative and qualitative data types:\\n(i) Grading in exam: A+, A, B+, B, C+, C, D, E\\n(ii) Colour of mangoes: yellow, green, orange, red\\n(iii) Height data of a class: [178.9, 179, 179.5, 176, 177.2, 178.3, 175.8,...]\\n(iv) Number of mangoes exported by a farm: [500, 600, 478, 672, ...]'"
      ]
     },
     "execution_count": 11,
     "metadata": {},
     "output_type": "execute_result"
    }
   ],
   "source": [
    "'''Q4. Categorise the following datasets with respect to quantitative and qualitative data types:\n",
    "(i) \n",
    "(ii) Colour of mangoes: yellow, green, orangeGrading in exam: A+, A, B+, B, C+, C, D, E, red\n",
    "(iii) Height data of a class: [178.9, 179, 179.5, 176, 177.2, 178.3, 175.8,...]\n",
    "(iv) Number of mangoes exported by a farm: [500, 600, 478, 672, ...]'''"
   ]
  },
  {
   "cell_type": "code",
   "execution_count": 12,
   "id": "320eacca-5591-4911-ba92-96b1c7ea0a2c",
   "metadata": {},
   "outputs": [
    {
     "data": {
      "text/plain": [
       "'Grading in exam: A+, A, B+, B, C+, C, D, E   [Ordinal Data]\\nColour of mangoes: yellow, green, orange, red   [Nominal Data]\\n Height data of a class: [178.9, 179, 179.5, 176, 177.2, 178.3, 175.8,...]  [continious data]\\n Number of mangoes exported by a farm: [500, 600, 478, 672, ...]   [discreate data]'"
      ]
     },
     "execution_count": 12,
     "metadata": {},
     "output_type": "execute_result"
    }
   ],
   "source": [
    "'''Grading in exam: A+, A, B+, B, C+, C, D, E   [Ordinal Data]\n",
    "Colour of mangoes: yellow, green, orange, red   [Nominal Data]\n",
    " Height data of a class: [178.9, 179, 179.5, 176, 177.2, 178.3, 175.8,...]  [continious data]\n",
    " Number of mangoes exported by a farm: [500, 600, 478, 672, ...]   [discreate data]'''\n"
   ]
  },
  {
   "cell_type": "code",
   "execution_count": 13,
   "id": "bf6f6bb5-6d10-4418-9e6b-8384ba7e83f1",
   "metadata": {},
   "outputs": [
    {
     "data": {
      "text/plain": [
       "' Q5 Explain the concept of levels of measurement and give an example of a variable for each level.'"
      ]
     },
     "execution_count": 13,
     "metadata": {},
     "output_type": "execute_result"
    }
   ],
   "source": [
    "''' Q5 Explain the concept of levels of measurement and give an example of a variable for each level.'''"
   ]
  },
  {
   "cell_type": "code",
   "execution_count": 14,
   "id": "5fc791e4-c8ea-4df8-b74c-455587a92150",
   "metadata": {},
   "outputs": [
    {
     "data": {
      "text/plain": [
       "' 1. Nominal Level of Measurement\\n\\nDefinition: A nominal scale is used to label or categorize data without any inherent order or ranking.\\n\\n2. Ordinal Level of Measurement\\n\\nDefinition: An ordinal scale is used to rank or order data, but the differences between consecutive values\\nare not necessarily equal.\\n\\n3. Interval Level of Measurement\\n\\nDefinition: An interval scale is used to measure data where the differences between consecutive values are equal,\\nbut there is no true zero point.\\n\\n4. Ratio Level of Measurement\\n\\nDefinition: A ratio scale is used to measure data where the differences between consecutive values are equal, \\nand there is a true zero point.'"
      ]
     },
     "execution_count": 14,
     "metadata": {},
     "output_type": "execute_result"
    }
   ],
   "source": [
    "''' 1. Nominal Level of Measurement\n",
    "\n",
    "Definition: A nominal scale is used to label or categorize data without any inherent order or ranking.\n",
    "\n",
    "2. Ordinal Level of Measurement\n",
    "\n",
    "Definition: An ordinal scale is used to rank or order data, but the differences between consecutive values\n",
    "are not necessarily equal.\n",
    "\n",
    "3. Interval Level of Measurement\n",
    "\n",
    "Definition: An interval scale is used to measure data where the differences between consecutive values are equal,\n",
    "but there is no true zero point.\n",
    "\n",
    "4. Ratio Level of Measurement\n",
    "\n",
    "Definition: A ratio scale is used to measure data where the differences between consecutive values are equal, \n",
    "and there is a true zero point.'''"
   ]
  },
  {
   "cell_type": "code",
   "execution_count": null,
   "id": "9bec76aa-9fb1-4e7f-88a2-fd4d9f73d0f3",
   "metadata": {},
   "outputs": [],
   "source": []
  }
 ],
 "metadata": {
  "kernelspec": {
   "display_name": "Python 3 (ipykernel)",
   "language": "python",
   "name": "python3"
  },
  "language_info": {
   "codemirror_mode": {
    "name": "ipython",
    "version": 3
   },
   "file_extension": ".py",
   "mimetype": "text/x-python",
   "name": "python",
   "nbconvert_exporter": "python",
   "pygments_lexer": "ipython3",
   "version": "3.10.8"
  }
 },
 "nbformat": 4,
 "nbformat_minor": 5
}
