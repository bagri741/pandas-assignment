{
 "cells": [
  {
   "cell_type": "code",
   "execution_count": 2,
   "id": "6199d346-8e17-4880-bc7e-4d69748b5d6d",
   "metadata": {},
   "outputs": [],
   "source": [
    "# Q1. Create a Pandas Series that contains the following data: 4, 8, 15, 16, 23, and 42. Then, print the series."
   ]
  },
  {
   "cell_type": "code",
   "execution_count": 3,
   "id": "1dfb9eac-87d4-4091-917d-6d8b322420dd",
   "metadata": {},
   "outputs": [],
   "source": [
    "import pandas as pd"
   ]
  },
  {
   "cell_type": "code",
   "execution_count": 5,
   "id": "5bbfd002-64d4-42bf-b8a0-5c95bc6949e1",
   "metadata": {},
   "outputs": [],
   "source": [
    "series=pd.Series([4,8,15,16,23,42])"
   ]
  },
  {
   "cell_type": "code",
   "execution_count": 6,
   "id": "a196a66b-d666-46fb-9519-3a7ca2a34649",
   "metadata": {},
   "outputs": [
    {
     "name": "stdout",
     "output_type": "stream",
     "text": [
      "0     4\n",
      "1     8\n",
      "2    15\n",
      "3    16\n",
      "4    23\n",
      "5    42\n",
      "dtype: int64\n"
     ]
    }
   ],
   "source": [
    "print(series)"
   ]
  },
  {
   "cell_type": "code",
   "execution_count": 7,
   "id": "1dd740ff-9040-40fe-9f4b-8b2fa00f795a",
   "metadata": {},
   "outputs": [
    {
     "data": {
      "text/plain": [
       "' Q2. Create a variable of list type containing 10 elements in it, and apply pandas.Series function on the\\nvariable print it.'"
      ]
     },
     "execution_count": 7,
     "metadata": {},
     "output_type": "execute_result"
    }
   ],
   "source": [
    "''' Q2. Create a variable of list type containing 10 elements in it, and apply pandas.Series function on the\n",
    "variable print it.'''"
   ]
  },
  {
   "cell_type": "code",
   "execution_count": 9,
   "id": "723561ba-54c6-48ed-a5b6-c50d02356ee1",
   "metadata": {},
   "outputs": [],
   "source": [
    "create_list=[1,2,3,23,12,21,21,21,23]\n",
    "my_series=pd.Series(create_list)"
   ]
  },
  {
   "cell_type": "code",
   "execution_count": 10,
   "id": "627f91d0-067a-4ff3-8a32-ff05b9daa256",
   "metadata": {},
   "outputs": [
    {
     "name": "stdout",
     "output_type": "stream",
     "text": [
      "0     1\n",
      "1     2\n",
      "2     3\n",
      "3    23\n",
      "4    12\n",
      "5    21\n",
      "6    21\n",
      "7    21\n",
      "8    23\n",
      "dtype: int64\n"
     ]
    }
   ],
   "source": [
    "print(my_series)"
   ]
  },
  {
   "cell_type": "code",
   "execution_count": 12,
   "id": "ee86acf1-a6e8-416f-9408-368493eaea44",
   "metadata": {},
   "outputs": [],
   "source": [
    "data={'Name':['Alice','Bob','Claire'],\n",
    "      'Age':[25,30,27],\n",
    "      'Gender':['Femaile','Male','Female']\n",
    "     }\n",
    "data_frame1=pd.DataFrame(data)"
   ]
  },
  {
   "cell_type": "code",
   "execution_count": 13,
   "id": "0378be77-6d6a-4e63-bbf6-2795864276ba",
   "metadata": {},
   "outputs": [
    {
     "name": "stdout",
     "output_type": "stream",
     "text": [
      "     Name  Age   Gender\n",
      "0   Alice   25  Femaile\n",
      "1     Bob   30     Male\n",
      "2  Claire   27   Female\n"
     ]
    }
   ],
   "source": [
    "print(data_frame1)"
   ]
  },
  {
   "cell_type": "code",
   "execution_count": 14,
   "id": "4413dc0a-2948-40be-ac30-661dcc7bc7b5",
   "metadata": {},
   "outputs": [
    {
     "data": {
      "text/plain": [
       "'Q4 What is ‘DataFrame’ in pandas and how is it different from pandas.series? Explain with an example.'"
      ]
     },
     "execution_count": 14,
     "metadata": {},
     "output_type": "execute_result"
    }
   ],
   "source": [
    "'''Q4 What is ‘DataFrame’ in pandas and how is it different from pandas.series? Explain with an example.'''"
   ]
  },
  {
   "cell_type": "code",
   "execution_count": 15,
   "id": "d027ce96-6dec-45c3-be69-9b88317f66fd",
   "metadata": {},
   "outputs": [
    {
     "data": {
      "text/plain": [
       "\"In pandas a DataFrame is a 2-dimensional labeled data structure with columns of potentially different types. It's similar to an Excel spreadsheet or a table in a relational database.\\n\\nA Series, on the other hand, is a 1-dimensional labeled array capable of holding any data type (integer, string, float\""
      ]
     },
     "execution_count": 15,
     "metadata": {},
     "output_type": "execute_result"
    }
   ],
   "source": [
    "'''In pandas a DataFrame is a 2-dimensional labeled data structure with columns of potentially different types. It's similar to an Excel spreadsheet or a table in a relational database.\n",
    "\n",
    "A Series, on the other hand, is a 1-dimensional labeled array capable of holding any data type (integer, string, float'''"
   ]
  },
  {
   "cell_type": "code",
   "execution_count": 16,
   "id": "9a15f3d6-3c50-4fd9-9bac-4178d78222d5",
   "metadata": {},
   "outputs": [
    {
     "data": {
      "text/plain": [
       "\"'What are some common functions you can use to manipulate data in a Pandas DataFrame? Can\\nyou give an example of when you might use one of these functions?\""
      ]
     },
     "execution_count": 16,
     "metadata": {},
     "output_type": "execute_result"
    }
   ],
   "source": [
    "''''What are some common functions you can use to manipulate data in a Pandas DataFrame? Can\n",
    "you give an example of when you might use one of these functions?'''"
   ]
  },
  {
   "cell_type": "code",
   "execution_count": 17,
   "id": "937244b1-619f-4d13-8171-cc234535c554",
   "metadata": {},
   "outputs": [
    {
     "data": {
      "text/plain": [
       "\" functions are \\ndrop(): Remove rows or columns based on conditions. Example: df.dropna() to remove rows with missing values.\\n\\nfilter(): Select rows based on conditions. Example: df.filter(items=['column1', 'column2']) to select specific columns.\\n\\ngroupby(): Group data by one or more columns and perform aggregation. Example: df.groupby('category').mean() to calculate the mean of each group.\\n\\n\""
      ]
     },
     "execution_count": 17,
     "metadata": {},
     "output_type": "execute_result"
    }
   ],
   "source": [
    "''' functions are \n",
    "drop(): Remove rows or columns based on conditions. Example: df.dropna() to remove rows with missing values.\n",
    "\n",
    "filter(): Select rows based on conditions. Example: df.filter(items=['column1', 'column2']) to select specific columns.\n",
    "\n",
    "groupby(): Group data by one or more columns and perform aggregation. Example: df.groupby('category').mean() to calculate the mean of each group.\n",
    "\n",
    "'''"
   ]
  },
  {
   "cell_type": "code",
   "execution_count": null,
   "id": "7b004534-5c02-4322-b84f-cc13a5768c2f",
   "metadata": {},
   "outputs": [],
   "source": []
  }
 ],
 "metadata": {
  "kernelspec": {
   "display_name": "Python 3 (ipykernel)",
   "language": "python",
   "name": "python3"
  },
  "language_info": {
   "codemirror_mode": {
    "name": "ipython",
    "version": 3
   },
   "file_extension": ".py",
   "mimetype": "text/x-python",
   "name": "python",
   "nbconvert_exporter": "python",
   "pygments_lexer": "ipython3",
   "version": "3.10.8"
  }
 },
 "nbformat": 4,
 "nbformat_minor": 5
}
